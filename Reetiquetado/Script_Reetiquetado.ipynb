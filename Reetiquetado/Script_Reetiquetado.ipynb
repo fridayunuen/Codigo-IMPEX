{
 "cells": [
  {
   "cell_type": "markdown",
   "metadata": {},
   "source": [
    "# Requerimientos"
   ]
  },
  {
   "cell_type": "code",
   "execution_count": 59,
   "metadata": {},
   "outputs": [],
   "source": [
    "import os\n",
    "from tkinter import Tk, filedialog\n",
    "from numpy import repeat\n",
    "import cv2\n",
    "from win32con import (SW_SHOW, SW_RESTORE)\n",
    "import win32gui\n",
    "import win32ui\n",
    "import shutil\n",
    "import zipfile\n",
    "import datetime"
   ]
  },
  {
   "cell_type": "markdown",
   "metadata": {},
   "source": [
    "Si hay problemas al ejecutarse desde terminal, utilizar el comando:\n",
    "pip install pywin32 --upgrade"
   ]
  },
  {
   "cell_type": "markdown",
   "metadata": {},
   "source": [
    "La carpeta que se seleccionará debe de incluir las imagenes que se reetiquetarán ya que es muy probable que el modelo se haya equivocado en estos casos. Una consideración importante es que el nombre de la carpeta no debe incluir \"_\" pues el programa toma en consideración todo el path"
   ]
  },
  {
   "cell_type": "markdown",
   "metadata": {},
   "source": [
    "Abriendo carpeta que contiene las imagenes desde ventana Windows"
   ]
  },
  {
   "cell_type": "code",
   "execution_count": 60,
   "metadata": {},
   "outputs": [],
   "source": [
    "root = Tk() # pointing root to Tk() to use it as Tk() in program.\n",
    "root.withdraw() # Hides small tkinter window.\n",
    "root.attributes('-topmost', True) # Opened windows will be active. above all windows despite of selection.\n",
    "carpeta = filedialog.askdirectory() # Returns opened path as str\n"
   ]
  },
  {
   "cell_type": "code",
   "execution_count": 61,
   "metadata": {},
   "outputs": [],
   "source": [
    "# get base name of carpeta\n",
    "base_name_carpeta = os.path.basename(carpeta)\n",
    "\n",
    "#base_name_carpeta contains \"_\"\n",
    "if \"_\" in base_name_carpeta:\n",
    "    d=win32ui.MessageBox(\"El nombre de la carpeta contiene ( _ ) desea cambiarlo? \", \"Error\", 1) #1 Aceptar 2 Cancelar\n",
    "    if d==1:\n",
    "        #rename carpeta path\n",
    "        os.rename(carpeta, carpeta.replace(\"_\", \"\"))\n",
    "        carpeta=carpeta.replace(\"_\", \"\")\n",
    "        #base_name_carpeta = base_name_carpeta.replace(\"_\", \"\")\n",
    "    elif d==2:\n",
    "        exit()\n",
    "    \n"
   ]
  },
  {
   "cell_type": "code",
   "execution_count": 62,
   "metadata": {},
   "outputs": [],
   "source": [
    "os.chdir(carpeta) # Changes directory to opened path.\n",
    "files = os.listdir()\n",
    "\n",
    "# if the folder is empty, the program will exit\n",
    "if len(files) == 0:\n",
    "    win32ui.MessageBox(\"La carpeta esta vacia\", \"Error\",0)\n",
    "    exit()\n",
    "\n",
    "if not all(file.endswith('.jpg') for file in files):\n",
    "    win32ui.MessageBox(\"La carpeta solo debe de contener archivos JPG\", \"Error\",0)\n",
    "    exit()    \n",
    "    "
   ]
  },
  {
   "cell_type": "code",
   "execution_count": 63,
   "metadata": {},
   "outputs": [],
   "source": [
    "# get path of all files\n",
    "paths = [os.path.join(carpeta, file) for file in files]"
   ]
  },
  {
   "cell_type": "markdown",
   "metadata": {},
   "source": [
    "Aquí vamos a filtrar el hecho de que en la carpeta seleccionada existan errores en la etiqueta, si es así, el programa continua, caso contrario termina."
   ]
  },
  {
   "cell_type": "code",
   "execution_count": 64,
   "metadata": {},
   "outputs": [],
   "source": [
    "# this function ditects a string inside a string\n",
    "def detect_string(string, substring):\n",
    "    return substring in string\n",
    "\n",
    "error_paths = [path for path in paths if detect_string(path, \"Error\")]    \n",
    "\n",
    "# if error_paths is not empty, the program will exit\n",
    "if len(error_paths) == 0:\n",
    "    win32ui.MessageBox(\"La carpeta no contiene archivos con error :)\", \"Mensaje\",0)\n",
    "    exit()"
   ]
  },
  {
   "cell_type": "code",
   "execution_count": 65,
   "metadata": {},
   "outputs": [],
   "source": [
    "ec = \"S:/OMNI/ErroresCorregidos\"\n",
    "# ec = \"C:/Users/fcolin/Documents\"\n",
    "\n",
    "\n",
    "# if exists ec folder, the program continues\n",
    "\n",
    "if not os.path.exists(ec):\n",
    "    win32ui.MessageBox(\"Es necesario tener acceso a la carpeta S:\\OMNI\", \"Error\",0)\n",
    "    exit()\n",
    "    \n",
    "\n",
    "if os.path.exists(ec):\n",
    "    # print(\"La carpeta de errores corregidos existe\")\n",
    "    pass\n",
    "else:\n",
    "    os.mkdir(ec)"
   ]
  },
  {
   "cell_type": "code",
   "execution_count": 66,
   "metadata": {},
   "outputs": [],
   "source": [
    "inicio=win32ui.MessageBox(\"Para reetiquetar las imagenes de acuerdo a la posición del item, utiliza las teclas: \\n\\n W: Frontal \\n S: Trasera \\n A: Izquierda \\n D: Derecha\", \"Instrucciones Generales\",1)\n",
    "if inicio==2:\n",
    "    exit()\n",
    "\n",
    "consideraciones = win32ui.MessageBox(\"Asegurate de tener acceso a la carpeta compartida en donde se guardarán los cambios realizados\\n\\nLa carpeta debe contener archivos JPG ya etiquetados\\n\\nEl nombre de la carpeta no debe contener ( _ )\\n\\nUna ventana emergente mostrará la vista elegida, si desea cambiarla presione la opción Cancelar y escoja nuevamente entre W,A,S o D\\n\\nUna vez inciado el programa podrá salir hasta que se hayan reetiquetado todas las imagenes de la carpeta\", \"Consideraciones\",1)\n",
    "if consideraciones==2:\n",
    "    exit()"
   ]
  },
  {
   "cell_type": "code",
   "execution_count": 67,
   "metadata": {},
   "outputs": [],
   "source": [
    "#Functions --------------------------------------------------------------------------------------------------\n",
    "# this function is used to create a subset from a string\n",
    "def get_subset(string, start, end):\n",
    "    return string[start:end]    \n",
    "\n",
    "# this function detects the position of a  character in a string\n",
    "def detect_char(string, char):\n",
    "    return [i for i, letter in enumerate(string) if letter == char]  \n",
    "\n",
    "# With these functions we can activate the window and bring it to the front.\n",
    "def get_windows_placement(window_id):\n",
    "    return win32gui.GetWindowPlacement(window_id)[1]\n",
    "\n",
    "def set_active_window(window_id):\n",
    "    if get_windows_placement(window_id) == 2:\n",
    "        win32gui.ShowWindow(window_id, SW_RESTORE)\n",
    "    else:\n",
    "        win32gui.ShowWindow(window_id, SW_SHOW)\n",
    "    win32gui.SetForegroundWindow(window_id)\n",
    "    win32gui.SetActiveWindow(window_id)\n"
   ]
  },
  {
   "cell_type": "code",
   "execution_count": 68,
   "metadata": {},
   "outputs": [],
   "source": [
    "# now we use the previous function to get all '_'\n",
    "error_paths_positions = [detect_char(path, '_') for path in error_paths]\n",
    "#select the first position of each path\n",
    "error_paths_positions_1 = [path[1] for path in error_paths_positions]\n",
    "error_paths_positions_1 = [int(path) + 1 for path in error_paths_positions_1]\n",
    "\n",
    "error_paths_positions_2 = [path[2] for path in error_paths_positions]\n",
    "\n",
    "# get the subset of the paths\n",
    "error_paths_subset = [get_subset(path, error_paths_positions_1[i], error_paths_positions_2[i]) for i, path in enumerate(error_paths)]\n",
    "\n",
    "# unique values of error_paths_subset\n",
    "skue = list(set(error_paths_subset))\n"
   ]
  },
  {
   "cell_type": "markdown",
   "metadata": {},
   "source": [
    "Se substrae el SKU con etiqueta erronea, a partir de ahi se subrtaen toooodos los productos con ese SKU\n"
   ]
  },
  {
   "cell_type": "code",
   "execution_count": 69,
   "metadata": {},
   "outputs": [],
   "source": [
    "productos_error = []\n",
    "for path in paths:\n",
    "    for j in range(len(skue)):\n",
    "        if detect_string(path, skue[j]):\n",
    "            # save the path in the new variable\n",
    "            productos_error.append(path)\n",
    "            \n",
    "carpeta = os.getcwd()\n",
    "\n",
    "# if not exists the folder 'error', the program will create it\n",
    "if not os.path.exists(carpeta + '\\\\Errores'):\n",
    "    os.mkdir(\"Errores\")\n",
    "\n",
    "for path in productos_error:\n",
    "    name = os.path.basename(path)\n",
    "    os.rename(path, carpeta+\"/Errores/\" + name) \n"
   ]
  },
  {
   "cell_type": "code",
   "execution_count": 70,
   "metadata": {},
   "outputs": [],
   "source": [
    "# files in the folder 'error'\n",
    "error_files = os.listdir(carpeta + '\\\\Errores')"
   ]
  },
  {
   "cell_type": "markdown",
   "metadata": {},
   "source": [
    "Seleccionando solo las imagenes con medida 515 para mostrarse en pantalla"
   ]
  },
  {
   "cell_type": "code",
   "execution_count": 71,
   "metadata": {},
   "outputs": [],
   "source": [
    "# change directory to 'error'\n",
    "os.chdir(carpeta + '\\\\Errores')"
   ]
  },
  {
   "cell_type": "code",
   "execution_count": 72,
   "metadata": {},
   "outputs": [],
   "source": [
    "# get all paths in directory\n",
    "files = os.listdir()\n",
    "# get all paths of files\n",
    "paths = [os.path.join(carpeta + '\\\\Errores', file) for file in files]"
   ]
  },
  {
   "cell_type": "markdown",
   "metadata": {},
   "source": [
    "A todo lo que no contenga _Error_ en su etiqueta se le colocará -new"
   ]
  },
  {
   "cell_type": "code",
   "execution_count": 73,
   "metadata": {},
   "outputs": [],
   "source": [
    "error_paths = [path for path in paths if detect_string(path, \"_Error_\")]  \n",
    "\n",
    "no_error_paths = [path for path in paths if not detect_string(path, \"_Error_\")]  \n",
    "\n",
    "for i in range(len(no_error_paths)):\n",
    "    imagen = no_error_paths[i]\n",
    "    tipo = (get_subset(imagen, detect_char(imagen, '_')[0]+1, detect_char(imagen, '_')[1]+1) )\n",
    "    \n",
    "    tipo2 = tipo.replace(\"_\", \"-new_\")\n",
    "    os.rename(imagen, imagen.replace(tipo, tipo2))\n",
    "        "
   ]
  },
  {
   "cell_type": "code",
   "execution_count": 74,
   "metadata": {},
   "outputs": [],
   "source": [
    "    principales = [error_paths for error_paths in error_paths if \"515Wx515\" in error_paths]"
   ]
  },
  {
   "cell_type": "markdown",
   "metadata": {},
   "source": [
    "# Open cv2"
   ]
  },
  {
   "cell_type": "markdown",
   "metadata": {},
   "source": [
    "Para que el uso del programa sea mas fluido en el archivo Ejecutable.py se agregan las dos ultimas funciones las cuales colocan sobre el resto de ventanas la imagen a reetiquetar y al mismo tiempo se activa dicha ventana."
   ]
  },
  {
   "cell_type": "markdown",
   "metadata": {},
   "source": [
    "* Mostrando las imagenes y utilizando las teclas (w,a,s,d) para etiquetarlas\n",
    "* Se muestra la imagen y posteriormente la etiqueta que se le asignó mediante el teclado para que el usuario corrobore su selección\n",
    "* Incluye un bucle que se rompe hasta que se selecciona la opción aceptar (decision final)\n",
    "* Se renombran con el formato \"-new\" para evitar repeticiones con los archivos ya existentes"
   ]
  },
  {
   "cell_type": "code",
   "execution_count": 75,
   "metadata": {},
   "outputs": [],
   "source": [
    "def seleccion(imagen): \n",
    "    img = cv2.imread(imagen)\n",
    "    cv2.imshow('Imagen',img) #\n",
    "    cv2.setWindowProperty('Imagen', cv2.WND_PROP_TOPMOST, 1)\n",
    "    window_id = win32gui.GetActiveWindow()#\n",
    "    set_active_window(window_id)#\n",
    "    #detecting which key is pressed \n",
    "    tecla=cv2.waitKey(0) # waits until a key is pressed\n",
    "    \n",
    "    # Pressing only keys predefined\n",
    "    while tecla != ord('a') and tecla != ord('d') and tecla != ord('w') and tecla != ord('s'):\n",
    "        win32ui.MessageBox(\"Recuerda que para etiquetar las fotos debes de presionar las teclas \\t W A S D\", \"Cuidado\", 0)\n",
    "        img = cv2.imread(imagen)\n",
    "        cv2.imshow('Imagen',img) #\n",
    "        cv2.setWindowProperty('Imagen', cv2.WND_PROP_TOPMOST, 1)\n",
    "        window_id = win32gui.GetActiveWindow()#\n",
    "        set_active_window(window_id)#\n",
    "        tecla=cv2.waitKey(0) \n",
    "        cv2.destroyAllWindows() \n",
    "\n",
    "    # Conditional statement to detect which key is pressed\n",
    "    if tecla == ord('a'):\n",
    "        new_label=\"_Izquierda-new_\"\n",
    "    elif tecla == ord('d'):\n",
    "        new_label=\"_Derecha-new_\" \n",
    "    elif tecla == ord('w'):\n",
    "        new_label=\"_Frontal-new_\"\n",
    "    elif tecla == ord('s'):\n",
    "        new_label=\"_Trasera-new_\"\n",
    "    \n",
    "    return new_label\n",
    "      "
   ]
  },
  {
   "cell_type": "markdown",
   "metadata": {},
   "source": [
    "+ Si se denominan dos imagenes como \"frontales\" por ejemplo, la primera conserva su nombre y la segunda cambia su no_vista \n",
    "+ Solo se aceptan dos imagenes del mismo tipo, (p ejem 2 izquierdas)\n"
   ]
  },
  {
   "cell_type": "code",
   "execution_count": 76,
   "metadata": {},
   "outputs": [],
   "source": [
    "for i in range(len(principales)):\n",
    "    imagen = principales[i]\n",
    "\n",
    "    new_label=seleccion(imagen)\n",
    "    \n",
    "    #Now, if the user wants to change his/her selection, he/ she can select the option \"Cancel\"\n",
    "    continuar = win32ui.MessageBox(new_label, \"Seleccion\", 1) #?\n",
    "\n",
    "    while continuar == 2:\n",
    "        new_label=seleccion(imagen)\n",
    "        continuar = win32ui.MessageBox(new_label, \"Seleccion\", 1)\n",
    "\n",
    "    cv2.destroyAllWindows() # destroys the window showing image  \n",
    "      \n",
    "    # Elements of the path \n",
    "    tipo=get_subset( imagen, detect_char(imagen, '_')[0], detect_char(imagen, '_')[1]+1) #_Derecha_\n",
    "    sku =get_subset( imagen, detect_char(imagen, '_')[1]+1, detect_char(imagen, '_')[2]) #1700490094\n",
    "    no_vista=get_subset(imagen, detect_char(imagen, '_')[2], detect_char(imagen, '_')[2]+3) #_1.\n",
    "\n",
    "    item = [path for path in paths if sku in path] \n",
    "    vista=[item for item in item if tipo in item] \n",
    "\n",
    "    # Selecting all paths with sku in them and with determinated vista\n",
    "    item_vista=[vista for vista in vista if no_vista in vista] \n",
    "    \n",
    "    # if imagen2.replace(tipo, new_label) does not exist, rename imagen2 to imagen2.replace(tipo, new_label)\n",
    "    for j in range(len(item_vista)) :\n",
    "        imagen2 = item_vista[j]\n",
    "        \n",
    "        if not os.path.exists(imagen2.replace(tipo, new_label)):\n",
    "            os.rename(imagen2, imagen2.replace(tipo, new_label))\n",
    "            \n",
    "            \n",
    "        else:\n",
    "            if not os.path.exists(imagen2.replace(no_vista, \"_1.\")):\n",
    "                imagen3 = imagen2.replace(no_vista, \"_1.\")\n",
    "                imagen3 = imagen3.replace(tipo, new_label)\n",
    "                os.rename(imagen2, imagen3)\n",
    "                \n",
    "            else:\n",
    "                if not os.path.exists(imagen2.replace(no_vista, \"_2.\")):\n",
    "                    imagen3 = imagen2.replace(no_vista, \"_2.\")\n",
    "                    imagen3 = imagen3.replace(tipo, new_label)\n",
    "                    os.rename(imagen2, imagen3)\n",
    "                    "
   ]
  },
  {
   "cell_type": "markdown",
   "metadata": {},
   "source": [
    "Se revisa que todos los nombres se actualizaron, si no es así, es porque se asigaron mas formatos de los que son permitidos (por ejemplo se seleccionaron 3 imagenes como frontales, sin embargo solo se aceptan 2). Si es el caso, se mueve hacia una direccion que vivirá al mismo nivel que la carpeta padre."
   ]
  },
  {
   "cell_type": "markdown",
   "metadata": {},
   "source": [
    "Es importante guardar los cambios que se generen para poder retroalimentar el modelo, por esta razón se tambien se guardan las imagenes reetiquetadas en TomCargasMasivas (carpeta compartida a la que se tiene acceso)"
   ]
  },
  {
   "cell_type": "code",
   "execution_count": 77,
   "metadata": {},
   "outputs": [],
   "source": [
    "files= os.listdir()\n",
    "\n",
    "error_files\n",
    "import pandas as pd\n",
    "# create a table with files and error files as columns\n",
    "table = pd.DataFrame(columns=['Files', 'Error Files'])\n",
    "table['Files'] = files\n",
    "table['Error Files'] = error_files\n",
    "\n",
    "\n",
    "# if table has same value in both columns and in the same row, delete that row\n",
    "table = table.drop_duplicates(subset=['Files', 'Error Files'], keep='first')\n"
   ]
  },
  {
   "cell_type": "code",
   "execution_count": 78,
   "metadata": {},
   "outputs": [],
   "source": [
    "\n",
    "files=os.listdir()\n",
    "for i in range(len(files)):\n",
    "    if '-' not in files[i]:\n",
    "        base_name=carpeta[:-len(os.path.basename(carpeta))]\n",
    "        if not os.path.exists(base_name+\"/Repeticiones\"):\n",
    "            os.mkdir(base_name+\"/Repeticiones\")\n",
    "        os.rename(files[i], base_name+\"/Repeticiones/\"+files[i])\n",
    "        \n",
    "        \n",
    "files= os.listdir()\n",
    "for i in range(len(files)):\n",
    "    os.rename(files[i],files[i].replace('-new', ''))\n",
    "\n",
    "# if there exists a folder called \"Repeticiones\" show a message\n",
    "if os.path.exists(base_name_carpeta+\"Repeticiones\"):\n",
    "    win32ui.MessageBox(\"Existen Archivos con mas de 2 vistas, revisar carpeta repeticiones\", \"Error\", 0)\n",
    "    "
   ]
  },
  {
   "cell_type": "code",
   "execution_count": 24,
   "metadata": {},
   "outputs": [
    {
     "data": {
      "text/plain": [
       "['1200Wx1200H_Trasera-new_2003674022_1.jpg',\n",
       " '300Wx300H_Trasera-new_2003674022_1.jpg',\n",
       " '30Wx30H_Trasera-new_2003674022_1.jpg',\n",
       " '400Wx600H_Trasera-new_2003674022_1.jpg',\n",
       " '40Wx40H_Trasera-new_2003674022_1.jpg',\n",
       " '515Wx515H_Trasera-new_2003674022_1.jpg',\n",
       " '65Wx65H_Trasera-new_2003674022_1.jpg',\n",
       " '96Wx96H_Trasera-new_2003674022_1.jpg']"
      ]
     },
     "execution_count": 24,
     "metadata": {},
     "output_type": "execute_result"
    }
   ],
   "source": [
    "table = pd.DataFrame(columns=['Files', 'Error Files'])"
   ]
  },
  {
   "cell_type": "markdown",
   "metadata": {},
   "source": [
    "Creando reporte de cambios"
   ]
  },
  {
   "cell_type": "code",
   "execution_count": 81,
   "metadata": {},
   "outputs": [],
   "source": [
    "day = datetime.datetime.now().strftime(\"%d-%m-%Y\")  \n",
    "hour = datetime.datetime.now().strftime(\"%H-%M-%S\")\n",
    "\n",
    "if os.path.exists(\"S:/OMNI\"):\n",
    "    if not os.path.exists(ec):\n",
    "        os.mkdir(ec)\n",
    "\n",
    "    if not os.path.exists(ec+\"\\\\Transformaciones(\"+day+\"_\"+hour+\").csv\"):    \n",
    "        table.to_csv(ec+\"\\\\Transformaciones(\"+day+\"_\"+hour+\").csv\", index=False)\n",
    "else:\n",
    "     table.to_csv(carpeta+\"\\\\ENVIAR-A-RESPONSABLE-Transformaciones(\"+day+\"_\"+hour+\").csv\", index=False)       \n"
   ]
  },
  {
   "cell_type": "code",
   "execution_count": 26,
   "metadata": {},
   "outputs": [],
   "source": [
    "# get all paths in directory\n",
    "files = os.listdir()\n",
    "# get all paths of files    \n",
    "paths = [os.path.join(carpeta + '\\\\Errores', file) for file in files]\n",
    "\n",
    "\n",
    "# move all files to carpeta\n",
    "for i in range(len(paths)):\n",
    "    os.rename(paths[i], carpeta + \"\\\\\" + files[i])\n"
   ]
  },
  {
   "cell_type": "markdown",
   "metadata": {},
   "source": [
    "Si carpeta de Errores se encuentra vacia eliminarla "
   ]
  },
  {
   "cell_type": "code",
   "execution_count": 27,
   "metadata": {},
   "outputs": [],
   "source": [
    "os.chdir(carpeta)\n",
    "\n",
    "# if Errores folder empty, delete it\n",
    "if os.listdir(carpeta + \"\\\\Errores\") == []:    \n",
    "    os.rmdir(carpeta + \"\\\\Errores\")\n",
    "else:\n",
    "    win32ui.MessageBox(\"Hubo un error, revisar carpeta\", \"Error\", 0)"
   ]
  },
  {
   "cell_type": "code",
   "execution_count": 28,
   "metadata": {},
   "outputs": [],
   "source": [
    "Fuera = carpeta.replace(base_name_carpeta, \"\")\n",
    "os.chdir(Fuera)\n",
    "\n",
    "EC = carpeta.replace(base_name_carpeta, \"ErroresCorregidos\")\n",
    "# changing name of carpeta to carpeta_new\n",
    "os.rename(carpeta, EC)\n"
   ]
  },
  {
   "cell_type": "code",
   "execution_count": 29,
   "metadata": {},
   "outputs": [],
   "source": [
    "resultados = carpeta.replace(base_name_carpeta, \"Resultado-ErroresCorregidos\")\n",
    "\n",
    "# create a folder called Resultado-ErroresCorregidos\n",
    "if not os.path.exists(resultados):\n",
    "    os.mkdir(resultados)"
   ]
  },
  {
   "cell_type": "code",
   "execution_count": 30,
   "metadata": {},
   "outputs": [
    {
     "data": {
      "text/plain": [
       "0"
      ]
     },
     "execution_count": 30,
     "metadata": {},
     "output_type": "execute_result"
    }
   ],
   "source": [
    "# get the user name \n",
    "user = os.getenv('USERNAME')\n",
    "\n",
    "Aplicacion = \"C:/Users/\"+ user +\"/Downloads/Aplicacion/Codigo-IMPEX/R-4.2.1/bin\"\n",
    "\n",
    "#change directory to Aplicacion\n",
    "os.chdir(Aplicacion)\n",
    "\n",
    "os.system(\"Rscript EjecutableLotes.R\")"
   ]
  },
  {
   "cell_type": "code",
   "execution_count": 82,
   "metadata": {},
   "outputs": [
    {
     "ename": "FileNotFoundError",
     "evalue": "[WinError 2] El sistema no puede encontrar el archivo especificado: 'C:\\\\Users\\\\fcolin\\\\Desktop\\\\ErroresCorregidos'",
     "output_type": "error",
     "traceback": [
      "\u001b[1;31m---------------------------------------------------------------------------\u001b[0m",
      "\u001b[1;31mFileNotFoundError\u001b[0m                         Traceback (most recent call last)",
      "\u001b[1;32mc:\\Users\\fcolin\\Documents\\GitHub\\Codigo-IMPEX\\Reetiquetado\\Script_Reetiquetado.ipynb Celda 45\u001b[0m in \u001b[0;36m<cell line: 2>\u001b[1;34m()\u001b[0m\n\u001b[0;32m      <a href='vscode-notebook-cell:/c%3A/Users/fcolin/Documents/GitHub/Codigo-IMPEX/Reetiquetado/Script_Reetiquetado.ipynb#X64sZmlsZQ%3D%3D?line=0'>1</a>\u001b[0m \u001b[39m# change directory to Resultado-ErroresCorregidos\u001b[39;00m\n\u001b[1;32m----> <a href='vscode-notebook-cell:/c%3A/Users/fcolin/Documents/GitHub/Codigo-IMPEX/Reetiquetado/Script_Reetiquetado.ipynb#X64sZmlsZQ%3D%3D?line=1'>2</a>\u001b[0m os\u001b[39m.\u001b[39;49mchdir(EC)\n\u001b[0;32m      <a href='vscode-notebook-cell:/c%3A/Users/fcolin/Documents/GitHub/Codigo-IMPEX/Reetiquetado/Script_Reetiquetado.ipynb#X64sZmlsZQ%3D%3D?line=3'>4</a>\u001b[0m \u001b[39m# files in ErroresCorregidos folder\u001b[39;00m\n\u001b[0;32m      <a href='vscode-notebook-cell:/c%3A/Users/fcolin/Documents/GitHub/Codigo-IMPEX/Reetiquetado/Script_Reetiquetado.ipynb#X64sZmlsZQ%3D%3D?line=4'>5</a>\u001b[0m lista \u001b[39m=\u001b[39m os\u001b[39m.\u001b[39mlistdir()\n",
      "\u001b[1;31mFileNotFoundError\u001b[0m: [WinError 2] El sistema no puede encontrar el archivo especificado: 'C:\\\\Users\\\\fcolin\\\\Desktop\\\\ErroresCorregidos'"
     ]
    }
   ],
   "source": [
    "# change directory to Resultado-ErroresCorregidos\n",
    "os.chdir(EC)\n",
    "\n",
    "# files in ErroresCorregidos folder\n",
    "lista = os.listdir()\n",
    "\n",
    "# move a file to Resultado-ErroresCorregidos\n",
    "listadir = EC+\"\\\\\" + lista[0]\n",
    "listadirnew = listadir.replace(\"ErroresCorregidos\", \"Resultado-ErroresCorregidos\")\n",
    "\n",
    "os.rename(listadir, listadirnew)\n",
    "\n"
   ]
  },
  {
   "cell_type": "code",
   "execution_count": 50,
   "metadata": {},
   "outputs": [],
   "source": [
    "os.chdir(resultados)\n",
    "\n",
    "if os.listdir(EC) == []:\n",
    "    os.rmdir(EC)"
   ]
  },
  {
   "cell_type": "markdown",
   "metadata": {},
   "source": [
    "Finalmente se eliminan todas las varibales que fueron creadas, se libera memoria y evita complicaciones en posteriores usos "
   ]
  },
  {
   "cell_type": "code",
   "execution_count": 32,
   "metadata": {},
   "outputs": [],
   "source": [
    "del  carpeta, files, paths, principales, imagen, new_label"
   ]
  }
 ],
 "metadata": {
  "kernelspec": {
   "display_name": "Python 3.9.12 ('base')",
   "language": "python",
   "name": "python3"
  },
  "language_info": {
   "codemirror_mode": {
    "name": "ipython",
    "version": 3
   },
   "file_extension": ".py",
   "mimetype": "text/x-python",
   "name": "python",
   "nbconvert_exporter": "python",
   "pygments_lexer": "ipython3",
   "version": "3.9.12"
  },
  "orig_nbformat": 4,
  "vscode": {
   "interpreter": {
    "hash": "54d8efc0accedf8a71318180958b2a2c3ace073b5a0267b0b56f49dfe74d51c0"
   }
  }
 },
 "nbformat": 4,
 "nbformat_minor": 2
}
